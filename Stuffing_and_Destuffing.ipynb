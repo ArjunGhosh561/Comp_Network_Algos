{
 "cells": [
  {
   "cell_type": "code",
   "execution_count": 1,
   "id": "c6329ae3",
   "metadata": {},
   "outputs": [
    {
     "name": "stdout",
     "output_type": "stream",
     "text": [
      "number of bits:7\n",
      "1\n",
      "1\n",
      "1\n",
      "1\n",
      "1\n",
      "0\n",
      "1\n"
     ]
    }
   ],
   "source": [
    "# Introducing flag bits and taking user input\n",
    "flag=[1,1,1,1,1,1]\n",
    "\n",
    "s=[]\n",
    "\n",
    "n=int(input(\"number of bits:\"))\n",
    "\n",
    "for i in range (0,n):\n",
    "    num=int(input())\n",
    "    s.append(num)\n"
   ]
  },
  {
   "cell_type": "code",
   "execution_count": 2,
   "id": "360e1959",
   "metadata": {},
   "outputs": [
    {
     "name": "stdout",
     "output_type": "stream",
     "text": [
      "original data: [1, 1, 1, 1, 1, 1, 1, 1, 1, 1, 1, 0, 1, 1, 1, 1, 1, 1, 1]\n"
     ]
    }
   ],
   "source": [
    "# Adding flag to data\n",
    "s=flag+s+flag\n",
    "print(\"original data:\",s)"
   ]
  },
  {
   "cell_type": "code",
   "execution_count": 3,
   "id": "254df78e",
   "metadata": {},
   "outputs": [
    {
     "name": "stdout",
     "output_type": "stream",
     "text": [
      "stuffed data: [1, 1, 1, 1, 1, 1, 1, 1, 1, 1, 1, 0, 0, 1, 1, 1, 1, 1, 1, 1]\n"
     ]
    }
   ],
   "source": [
    "# Stuffing of data\n",
    "i=len(flag)\n",
    "count=0\n",
    "stuff_pos=[]\n",
    "while(i<len(s)-len(flag)):\n",
    "    if(s[i]==1):\n",
    "        count+=1\n",
    "    else:\n",
    "        count=0\n",
    "    if(count==5):\n",
    "        s.insert(i+1,0)\n",
    "        stuff_pos.append(i+1)\n",
    "        count=0\n",
    "    i+=1\n",
    "print(\"stuffed data:\",s)"
   ]
  },
  {
   "cell_type": "code",
   "execution_count": 4,
   "id": "6eb90461",
   "metadata": {},
   "outputs": [
    {
     "name": "stdout",
     "output_type": "stream",
     "text": [
      "stuffed position: [11]\n",
      "destuffed data: [1, 1, 1, 1, 1, 1, 1, 1, 1, 1, 1, 0, 1, 1, 1, 1, 1, 1, 1]\n"
     ]
    }
   ],
   "source": [
    "#Destuffing of data\n",
    "destuff=[]\n",
    "for i in range(0,len(s)):\n",
    "    if(i not in stuff_pos):\n",
    "        destuff.append(s[i])\n",
    "print(\"stuffed position:\",stuff_pos)\n",
    "print(\"destuffed data:\",destuff)"
   ]
  },
  {
   "cell_type": "code",
   "execution_count": null,
   "id": "889e22c7",
   "metadata": {},
   "outputs": [],
   "source": []
  }
 ],
 "metadata": {
  "kernelspec": {
   "display_name": "Python 3 (ipykernel)",
   "language": "python",
   "name": "python3"
  },
  "language_info": {
   "codemirror_mode": {
    "name": "ipython",
    "version": 3
   },
   "file_extension": ".py",
   "mimetype": "text/x-python",
   "name": "python",
   "nbconvert_exporter": "python",
   "pygments_lexer": "ipython3",
   "version": "3.9.12"
  }
 },
 "nbformat": 4,
 "nbformat_minor": 5
}
