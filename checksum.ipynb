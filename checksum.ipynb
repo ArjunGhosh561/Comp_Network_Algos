{
 "cells": [
  {
   "cell_type": "code",
   "execution_count": 3,
   "id": "fd6c7f31",
   "metadata": {},
   "outputs": [],
   "source": [
    "def checksum(data):\n",
    "    checksum_val=0\n",
    "    for i in range (0,len(data),4):\n",
    "        checksum_val+=int(data[i:i + 4], 2)\n",
    "        if checksum_val > 15:\n",
    "            checksum_val=(checksum_val % 16)+1\n",
    "    checksum_val= bin(checksum_val ^ 15)[2:].zfill(4)\n",
    "    return checksum_val\n"
   ]
  },
  {
   "cell_type": "code",
   "execution_count": 4,
   "id": "bde04f21",
   "metadata": {},
   "outputs": [
    {
     "name": "stdout",
     "output_type": "stream",
     "text": [
      "The original data is:  1010101100111100\n",
      "The data sent to the receiver is:  10101011001111001001\n"
     ]
    }
   ],
   "source": [
    "###### Sender Side  ###### \n",
    "\n",
    "\n",
    "s=\"1010101100111100\"\n",
    "\n",
    "data=checksum(s)\n",
    "print(\"The original data is: \",s)\n",
    "new_data=s+data\n",
    "\n",
    "print(\"The data sent to the receiver is: \",new_data) \n"
   ]
  },
  {
   "cell_type": "code",
   "execution_count": 5,
   "id": "18964ff4",
   "metadata": {},
   "outputs": [
    {
     "name": "stdout",
     "output_type": "stream",
     "text": [
      "Data received:  10101011001111001001\n",
      "Checksum performed successfully\n"
     ]
    }
   ],
   "source": [
    "###### Receiver Side  ###### \n",
    "\n",
    "def recheck(recieved_data):\n",
    "    binary_val=recieved_data[:-4]\n",
    "    recievd_checksum=recieved_data[-4:]\n",
    "    new_checksum=checksum(binary_val)\n",
    "    \n",
    "    return  recievd_checksum==new_checksum\n",
    "    \n",
    "    \n",
    "    \n",
    "\n",
    "\n",
    "print(\"Data received: \",new_data)\n",
    "if recheck(new_data):\n",
    "    print(\"Checksum performed successfully\")\n",
    "else:\n",
    "    print(\"There is some error in chechsum algo\")"
   ]
  }
 ],
 "metadata": {
  "kernelspec": {
   "display_name": "Python 3 (ipykernel)",
   "language": "python",
   "name": "python3"
  },
  "language_info": {
   "codemirror_mode": {
    "name": "ipython",
    "version": 3
   },
   "file_extension": ".py",
   "mimetype": "text/x-python",
   "name": "python",
   "nbconvert_exporter": "python",
   "pygments_lexer": "ipython3",
   "version": "3.10.2"
  }
 },
 "nbformat": 4,
 "nbformat_minor": 5
}
