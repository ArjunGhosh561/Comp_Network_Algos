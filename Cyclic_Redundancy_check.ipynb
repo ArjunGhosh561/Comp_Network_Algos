{
 "cells": [
  {
   "cell_type": "code",
   "execution_count": 40,
   "id": "cbdbd9fd",
   "metadata": {},
   "outputs": [],
   "source": [
    "def xor(a, b):\n",
    "    result = []\n",
    "    for i in range(1, len(b)):\n",
    "        if a[i] == b[i]:\n",
    "            result.append('0')\n",
    "        else:\n",
    "            result.append('1')\n",
    "    return ''.join(result)\n",
    "\n",
    "def crc(data,key):\n",
    "    window=len(key)\n",
    "    temp=data[0:window]\n",
    "    while(window<len(data)):\n",
    "        if temp[0]=='1':\n",
    "            temp=xor(key,temp)+data[window]\n",
    "        else:\n",
    "            temp=xor('0'*window,temp)+ data[window]\n",
    "        window+=1\n",
    "    if temp[0]=='1':\n",
    "        temp=xor(key,temp)\n",
    "                \n",
    "    else:\n",
    "        temp=xor('0'*window,temp)\n",
    "               \n",
    "    check=temp\n",
    "    print(check)\n",
    "    return check"
   ]
  },
  {
   "cell_type": "code",
   "execution_count": 41,
   "id": "f0efd18a",
   "metadata": {},
   "outputs": [
    {
     "name": "stdout",
     "output_type": "stream",
     "text": [
      "101\n",
      "The check is:  101\n"
     ]
    }
   ],
   "source": [
    "########  Sender Side ########\n",
    "\n",
    "data=\"1010101010\"\n",
    "key=\"1101\"\n",
    "\n",
    "new_data=data+'0'*(len(key)-1)\n",
    "\n",
    "check=crc(new_data,key)\n",
    "\n",
    "print(\"The check is: \",check)"
   ]
  },
  {
   "cell_type": "code",
   "execution_count": 42,
   "id": "c2969c90",
   "metadata": {},
   "outputs": [
    {
     "name": "stdout",
     "output_type": "stream",
     "text": [
      "000\n",
      "no error in data\n"
     ]
    }
   ],
   "source": [
    "########  Receiver Side ########\n",
    "\n",
    "data=\"1010101010101\"\n",
    "key=\"1101\"\n",
    "\n",
    "recheck=crc(data,key)\n",
    "\n",
    "if recheck ==\"000\":\n",
    "    print(\"no error in data\")\n",
    "else:\n",
    "    print(\"wrong data transmitted\")"
   ]
  }
 ],
 "metadata": {
  "kernelspec": {
   "display_name": "Python 3 (ipykernel)",
   "language": "python",
   "name": "python3"
  },
  "language_info": {
   "codemirror_mode": {
    "name": "ipython",
    "version": 3
   },
   "file_extension": ".py",
   "mimetype": "text/x-python",
   "name": "python",
   "nbconvert_exporter": "python",
   "pygments_lexer": "ipython3",
   "version": "3.9.12"
  }
 },
 "nbformat": 4,
 "nbformat_minor": 5
}
