{
 "cells": [
  {
   "cell_type": "code",
   "execution_count": 4,
   "id": "5f7c163c",
   "metadata": {},
   "outputs": [],
   "source": [
    "# Cyclic Left shfit function\n",
    "\n",
    "def cls(data,key):\n",
    "    if key>len(data):\n",
    "        return data[::-1]\n",
    "    return data[key:]+data[:key]"
   ]
  },
  {
   "cell_type": "code",
   "execution_count": 5,
   "id": "888378ce",
   "metadata": {},
   "outputs": [
    {
     "name": "stdout",
     "output_type": "stream",
     "text": [
      "0111\n"
     ]
    }
   ],
   "source": [
    "data=\"1011\"\n",
    "key=1\n",
    "x=cls(data,key)\n",
    "print(x)"
   ]
  }
 ],
 "metadata": {
  "kernelspec": {
   "display_name": "Python 3 (ipykernel)",
   "language": "python",
   "name": "python3"
  },
  "language_info": {
   "codemirror_mode": {
    "name": "ipython",
    "version": 3
   },
   "file_extension": ".py",
   "mimetype": "text/x-python",
   "name": "python",
   "nbconvert_exporter": "python",
   "pygments_lexer": "ipython3",
   "version": "3.9.12"
  }
 },
 "nbformat": 4,
 "nbformat_minor": 5
}
