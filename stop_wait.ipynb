{
 "cells": [
  {
   "cell_type": "code",
   "execution_count": 8,
   "metadata": {},
   "outputs": [],
   "source": [
    "import time \n",
    "ack=0\n",
    "TIMEOUT=1 # Timeout in seconds\n",
    "TRIES=10  # Limit for retrying to send acknowledgements"
   ]
  },
  {
   "cell_type": "code",
   "execution_count": 9,
   "metadata": {},
   "outputs": [],
   "source": [
    "import random\n",
    "def receiver(pos,down_time):\n",
    "   if (down_time==True) : return 0   # Down time suggests if the server is down or not\n",
    "   global ack\n",
    "   recieve_prob=random.randint(1,10) # Random selects a number and decides if the receiver should send propoer acknowgement or not\n",
    "   if recieve_prob%5 ==0:\n",
    "      ack=ack^1\n",
    "   if ack == pos:\n",
    "      return 1\n",
    "   else:\n",
    "      return 0\n",
    "      \n",
    "         "
   ]
  },
  {
   "cell_type": "code",
   "execution_count": 10,
   "metadata": {},
   "outputs": [],
   "source": [
    "def sender(str):\n",
    "   down_time=random.randint(1,10)   # Randomly selects a number for down time\n",
    "   if(down_time % 7)==0:\n",
    "      down_time=True\n",
    "   else:\n",
    "      down_time=False\n",
    "   \n",
    "   \n",
    "   \n",
    "   retry_count=0\n",
    "   retry_flag=True\n",
    "   pos=0\n",
    "   i=0\n",
    "   while(i<= len(str)):\n",
    "      data=str[i]\n",
    "      print(f\"data sent for {i}th postitionis {data}\")\n",
    "      flag=False\n",
    "      timer=0\n",
    "      while(timer<= TIMEOUT):\n",
    "         \n",
    "         rec=receiver(pos,down_time) # Rec receives the value that is sent to the receiver for acknowledgement\n",
    "         if (rec):                   # If a acknowledgement is sent from the receiver\n",
    "            pos=pos^1\n",
    "            flag=True\n",
    "            break\n",
    "         else:                       # If a acknowledgement is not sent from the receiver\n",
    "            timer+=1\n",
    "         time.sleep(1)\n",
    "      if flag== True:\n",
    "         if (i!= len(str)-1): \n",
    "            print(\"ACK SENT.... waiting for next bit.......\")\n",
    "         i+=1\n",
    "    \n",
    "      elif flag==False:\n",
    "         if(retry_count== TRIES):    # Checks if the counter value has reached the maximum retries\n",
    "            retry_flag=False\n",
    "            break\n",
    "         \n",
    "         retry_count+=1\n",
    "         \n",
    "         print(\"Waiitng for ack........................\")            \n",
    "   return (retry_flag)         "
   ]
  },
  {
   "cell_type": "code",
   "execution_count": 11,
   "metadata": {},
   "outputs": [
    {
     "name": "stdout",
     "output_type": "stream",
     "text": [
      "data sent for 0th postitionis 1\n",
      "Waiitng for ack........................\n",
      "data sent for 0th postitionis 1\n",
      "ACK SENT.... waiting for next bit.......\n",
      "data sent for 1th postitionis 0\n",
      "Waiitng for ack........................\n",
      "data sent for 1th postitionis 0\n",
      "ACK SENT.... waiting for next bit.......\n",
      "data sent for 2th postitionis 1\n",
      "ACK SENT.... waiting for next bit.......\n",
      "data sent for 3th postitionis 0\n",
      "Waiitng for ack........................\n",
      "data sent for 3th postitionis 0\n",
      "Waiitng for ack........................\n",
      "data sent for 3th postitionis 0\n",
      "ACK SENT.... waiting for next bit.......\n",
      "data sent for 4th postitionis 1\n",
      "Waiitng for ack........................\n",
      "data sent for 4th postitionis 1\n",
      "Waiitng for ack........................\n",
      "data sent for 4th postitionis 1\n",
      "ACK SENT.... waiting for next bit.......\n",
      "data sent for 5th postitionis 1\n",
      "Waiitng for ack........................\n",
      "data sent for 5th postitionis 1\n",
      "Waiitng for ack........................\n",
      "data sent for 5th postitionis 1\n",
      "ACK SENT.... waiting for next bit.......\n",
      "data sent for 6th postitionis 0\n",
      "Waiitng for ack........................\n",
      "data sent for 6th postitionis 0\n",
      "ACK SENT.... waiting for next bit.......\n",
      "data sent for 7th postitionis 1\n",
      "Waiitng for ack........................\n",
      "data sent for 7th postitionis 1\n",
      "Wait for the server to reconnect.....\n"
     ]
    }
   ],
   "source": [
    "#-------Main Function-------#\n",
    "\n",
    "str=\"1010110110000001\"\n",
    "\n",
    "acknowledgment=sender(str)\n",
    "\n",
    "if (acknowledgment):\n",
    "   print(\"Data has been successfully transmitted\")\n",
    "else:\n",
    "   print(\"Wait for the server to reconnect.....\")\n",
    "      "
   ]
  },
  {
   "cell_type": "code",
   "execution_count": 6,
   "metadata": {},
   "outputs": [],
   "source": []
  }
 ],
 "metadata": {
  "kernelspec": {
   "display_name": "base",
   "language": "python",
   "name": "python3"
  },
  "language_info": {
   "codemirror_mode": {
    "name": "ipython",
    "version": 3
   },
   "file_extension": ".py",
   "mimetype": "text/x-python",
   "name": "python",
   "nbconvert_exporter": "python",
   "pygments_lexer": "ipython3",
   "version": "3.10.2"
  },
  "orig_nbformat": 4
 },
 "nbformat": 4,
 "nbformat_minor": 2
}
